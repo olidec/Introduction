{
  "cells": [
    {
      "cell_type": "code",
      "execution_count": 7,
      "id": "ec6aec73",
      "metadata": {
        "jupyter": {
          "source-hidden": true
        }
      },
      "outputs": [
        {
          "data": {
            "text/html": [
              "\n",
              "<style>\n",
              "body {\n",
              "    counter-reset: exercise-counter;\n",
              "}\n",
              "h3.exercise:before {\n",
              "    counter-increment: exercise-counter;\n",
              "    content: \"Exercise \" counter(exercise-counter) \". \";\n",
              "}\n",
              "</style>\n"
            ],
            "text/plain": [
              "<IPython.core.display.HTML object>"
            ]
          },
          "execution_count": 7,
          "metadata": {},
          "output_type": "execute_result"
        }
      ],
      "source": [
        "# Import necessary libraries\n",
        "import ipywidgets as widgets\n",
        "from IPython.display import display\n",
        "import subprocess\n",
        "from datetime import datetime\n",
        "from zoneinfo import ZoneInfo"
      ]
    },
    {
      "cell_type": "markdown",
      "id": "57f1beaf",
      "metadata": {},
      "source": [
        "# Introduction to Programming with Python\n",
        "\n",
        "Welcome to Computer Science! 🚀 In this first chapter, we'll dive into the basics of programming using **Python**, a powerful and popular language known for its simple, readable syntax. We'll also use a special graphics library called **`pytamaro`** to create interesting visuals right from the start.\n",
        "\n",
        "### Why These Tools?\n",
        "\n",
        "* **Python:** It's a fantastic language for beginners because its syntax is close to English, letting you focus on programming concepts rather than complex rules. It's also used by professionals at places like Google, NASA, and Spotify.\n",
        "* **`pytamaro`:** Learning to code is more fun when you can see your results. This library makes it easy to draw shapes, create images, and learn core programming ideas in a visual way.\n",
        "* **Jupyter Notebooks:** This interactive environment, which you're looking at right now, lets us mix live code, explanatory text, and images all in one place. It’s the perfect digital workbook for learning and experimenting.\n",
        "\n",
        "---\n",
        "\n",
        "## Your First Steps in the Notebook\n",
        "\n",
        "This document is a **Jupyter Notebook**, and it's made up of individual blocks called **cells**. A cell can contain either text (like this one) or code.\n",
        "\n",
        "**Working with Code Cells**\n",
        "To run a code cell, you can either click the \"play\" button (▶️) that appears to its left or select the cell and press `Ctrl+Enter`. This executes the Python code inside and shows the output directly below. You can click on any code cell to edit its contents.\n",
        "\n",
        "**Working with Text Cells**\n",
        "The text you're reading is in a **Markdown cell**. Markdown is a simple way to format text using plain characters. To see the \"raw\" text, just double-click on a text cell. To render it again, press `Ctrl+Enter`.\n",
        "\n",
        "Here are a few basic Markdown commands:\n",
        "* `# Title` creates a main heading, `## Subtitle` creates a smaller one.\n",
        "* `*text*` makes text *italic*.\n",
        "* `**text**` makes text **bold**.\n",
        "* `` `code` `` formats text as `inline code`.\n",
        "\n",
        "---\n",
        "\n",
        "## Goals for this Chapter\n",
        "\n",
        "By the end of this chapter, you will be able to:\n",
        "* Understand the roles of Python, `pytamaro`, and Jupyter Notebooks.\n",
        "* Confidently navigate and interact with notebook cells.\n",
        "* Write and execute basic Python commands to create simple graphics.\n",
        "\n",
        "Let's get started!"
      ]
    },
    {
      "cell_type": "markdown",
      "id": "c7f610e2",
      "metadata": {},
      "source": [
        "## First Steps with PyTamaro\n",
        "\n"
      ]
    },
    {
      "cell_type": "code",
      "execution_count": null,
      "id": "b30e7f05",
      "metadata": {},
      "outputs": [],
      "source": []
    },
    {
      "cell_type": "code",
      "execution_count": 14,
      "id": "7161601c",
      "metadata": {},
      "outputs": [
        {
          "data": {
            "text/plain": [
              "4"
            ]
          },
          "execution_count": 14,
          "metadata": {},
          "output_type": "execute_result"
        }
      ],
      "source": [
        "2+2"
      ]
    },
    {
      "cell_type": "code",
      "execution_count": 15,
      "id": "40edf23d",
      "metadata": {},
      "outputs": [
        {
          "name": "stdout",
          "output_type": "stream",
          "text": [
            "0\n",
            "1\n",
            "2\n",
            "3\n"
          ]
        }
      ],
      "source": [
        "for i in range(4):\n",
        "    print(i)"
      ]
    },
    {
      "cell_type": "code",
      "execution_count": 16,
      "id": "566503f2",
      "metadata": {},
      "outputs": [
        {
          "data": {
            "image/png": "[encoded data removed]",
            "text/plain": [
              "<PIL.Image.Image image mode=RGBA size=450x300>"
            ]
          },
          "metadata": {},
          "output_type": "display_data"
        }
      ],
      "source": [
        "from pytamaro import rectangle, blue, show_graphic\n",
        "\n",
        "height = 300\n",
        "\n",
        "# create a white rectangle with the given height and a width 3/2 times larger\n",
        "background = rectangle(3/2*height, height, blue)\n",
        "\n",
        "show_graphic(background)  # this shows your background"
      ]
    },
    {
      "cell_type": "code",
      "execution_count": 17,
      "id": "0cef56ce",
      "metadata": {},
      "outputs": [
        {
          "data": {
            "application/vnd.jupyter.widget-view+json": {
              "model_id": "4f3635f8ff5644f8831e577bbb341364",
              "version_major": 2,
              "version_minor": 0
            },
            "text/plain": [
              "Button(description='Commit & Push', style=ButtonStyle())"
            ]
          },
          "metadata": {},
          "output_type": "display_data"
        }
      ],
      "source": [
        "# Click this button to commit and push all your changes\n",
        "def git_push_button_clicked(b):\n",
        "    try:\n",
        "        timezone = ZoneInfo('Europe/Zurich')\n",
        "    except Exception as e:\n",
        "        print(f\"Error setting timezone: {e}. Defaulting to system time.\")\n",
        "        now = datetime.now()\n",
        "    else:\n",
        "        now = datetime.now(timezone)\n",
        "    timestamp = now.strftime(\"%Y-%m-%d %H:%M:%S\")\n",
        "    commit_message=f\"Submission at {timestamp}\"\n",
        "    try: \n",
        "        subprocess.run(['python','-m','nbconvert','--to','markdown','intro.ipynb'],check=True, capture_output=True, text=True)\n",
        "        print('saved markdown')\n",
        "    except subprocess.CalledProcessError as e:\n",
        "        print('An error occurred while saving as markdown')\n",
        "        print(e.stderr)\n",
        "    try:\n",
        "        # Add all changes\n",
        "        subprocess.run(['git', 'add', '.'], check=True, capture_output=True, text=True)\n",
        "        print(\"Staged all changes.\")\n",
        "\n",
        "        # Commit changes\n",
        "        subprocess.run(['git', 'commit', '-m', commit_message], check=True, capture_output=True, text=True)\n",
        "        print(\"Committed changes.\")\n",
        "\n",
        "        # Push to the remote repository (assuming 'origin' and 'main' or 'master' branch)\n",
        "        subprocess.run(['git', 'push', 'origin', 'main'], check=True, capture_output=True, text=True)\n",
        "        print(\"Pushed to remote repository.\")\n",
        "\n",
        "        print(\"Git commit and push successful!\")\n",
        "    except subprocess.CalledProcessError as e:\n",
        "        print(\"An error occurred during git commands:\")\n",
        "        print(e.stderr)\n",
        "\n",
        "push_button = widgets.Button(description=\"Commit & Push\")\n",
        "push_button.on_click(git_push_button_clicked)\n",
        "display(push_button)"
      ]
    }
  ],
  "metadata": {
    "kernelspec": {
      "display_name": "Python 3",
      "language": "python",
      "name": "python3"
    },
    "language_info": {
      "codemirror_mode": {
        "name": "ipython",
        "version": 3
      },
      "file_extension": ".py",
      "mimetype": "text/x-python",
      "name": "python",
      "nbconvert_exporter": "python",
      "pygments_lexer": "ipython3",
      "version": "3.11.13"
    }
  },
  "nbformat": 4,
  "nbformat_minor": 5
}
