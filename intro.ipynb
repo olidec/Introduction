{
  "cells": [
    {
      "cell_type": "code",
      "execution_count": 1,
      "id": "ec6aec73",
      "metadata": {
        "jupyter": {
          "source-hidden": true
        }
      },
      "outputs": [],
      "source": [
        "# Import necessary libraries\n",
        "import ipywidgets as widgets\n",
        "from IPython.display import display\n",
        "import subprocess\n",
        "from datetime import datetime\n",
        "from zoneinfo import ZoneInfo"
      ]
    },
    {
      "cell_type": "markdown",
      "id": "57f1beaf",
      "metadata": {},
      "source": [
        "# Introduction to Programming with Python\n",
        "\n",
        "Welcome to Computer Science! 🚀 In this first chapter, we'll dive into the basics of programming using **Python**, a powerful and popular language known for its simple, readable syntax. We'll also use a special graphics library called **`pytamaro`** to create interesting visuals right from the start.\n",
        "\n",
        "### Why These Tools?\n",
        "\n",
        "* **Python:** It's a fantastic language for beginners because its syntax is close to English, letting you focus on programming concepts rather than complex rules. It's also used by professionals at places like Google, NASA, and Spotify.\n",
        "* **`pytamaro`:** Learning to code is more fun when you can see your results. This library makes it easy to draw shapes, create images, and learn core programming ideas in a visual way.\n",
        "* **Jupyter Notebooks:** This interactive environment, which you're looking at right now, lets us mix live code, explanatory text, and images all in one place. It’s the perfect digital workbook for learning and experimenting.\n",
        "\n",
        "### How Will We Work and Learn?\n",
        "\n",
        "Writing programs takes time and perseverance. I will be giving you time to work independently on various coding exercises. Please use your time during the lessons efficiently. The first exam will cover basic Python programming skills and some theory and definitions. It will be a pen and paper exam. Make sure you practice writing code down and thinking about the output while practicing.\n",
        "\n",
        "---\n",
        "\n",
        "## Your First Steps in the Notebook\n",
        "\n",
        "This document is a **Jupyter Notebook**, and it's made up of individual blocks called **cells**. A cell can contain either text (like this one) or code.\n",
        "\n",
        "**Working with Code Cells**\n",
        "To run a code cell, you can either click the \"play\" button (▶️) that appears to its left or select the cell and press `Ctrl+Enter`. This executes the Python code inside and shows the output directly below. You can click on any code cell to edit its contents.\n",
        "\n",
        "**Working with Text Cells**\n",
        "The text you're reading is in a **Markdown cell**. Markdown is a simple way to format text using plain characters. To see the \"raw\" text, just double-click on a text cell. To render it again, press `Ctrl+Enter`.\n",
        "\n",
        "Here are a few basic Markdown commands:\n",
        "* `# Title` creates a main heading, `## Subtitle` creates a smaller one.\n",
        "* `*text*` makes text *italic*.\n",
        "* `**text**` makes text **bold**.\n",
        "* `` `code` `` formats text as `inline code`.\n",
        "* `*` makes an bullet list (such as this one)\n",
        "* `1.` makes a numbered list (the exact numbers are displayed correctly - so even if you add new entries, you do not have to change the numebring) \n",
        "\n",
        "### Saving your Work\n",
        "As with other documents and files the command `CTRL-S` (or `CMD-S`) saves your progress locally. Please make sure to regularly use this to save your progress. At the end of a session or lesson it makes sense to save your work more persistently. At the bottom of the page you will find a button labelled `Commit and Push`. This will take care of the git commands needed to connect with your online repository. Please use this button at the end of every lesson and also in between when you have worked on a large chunk. The version on your repository can be viewed by me to assess your progress and see if there are any issues that we need to look at.\n",
        "\n",
        "---\n",
        "\n",
        "### Goals for this Chapter\n",
        "\n",
        "By the end of this chapter, you will be able to:\n",
        "* Understand the roles of Python, `pytamaro`, and Jupyter Notebooks.\n",
        "* Confidently navigate and interact with notebook cells.\n",
        "* Write and execute basic Python commands to create simple graphics.\n",
        "\n",
        "Let's get started!"
      ]
    },
    {
      "cell_type": "markdown",
      "id": "c7f610e2",
      "metadata": {},
      "source": [
        "# What is a computer program?\n",
        "\n",
        "At its heart, a **computer program** is a set of precise instructions given to a computer to perform a specific task. Think of it like a recipe for a chef 🧑‍🍳. The recipe lists the ingredients (the data) and provides a step-by-step guide on what to do with them (the instructions). The computer, like a chef, follows these instructions exactly to produce a final result, whether it's calculating a budget, displaying a webpage, or running a game.\n",
        "\n",
        "These instructions are written by a programmer in a special language that the computer can understand, known as a **programming language**.\n",
        "\n",
        "A computer executes these instructions with incredible speed and accuracy, but it has no creativity or common sense. It will do exactly what it's told, even if the instructions are illogical. A core part of programming is learning how to break down a complex problem into tiny, logical steps that a computer can follow without error.\n",
        "\n",
        "---\n",
        "\n",
        "## A simple example\n",
        "The following is an algorithm for making a cup of tea\n",
        "1. Put the teabag in a cup.\n",
        "1. Fill the kettle with water.\n",
        "1. Boil the water in the kettle.\n",
        "1. Pour some of the boiled water into the cup.\n",
        "1. Add milk to the cup.\n",
        "1. Add sugar to the cup.\n",
        "1. Stir the tea.\n",
        "1. Drink the tea.\n",
        "\n",
        "### <span style=\"color: blue\"> Exercise </span>\n",
        "In groups of two discuss: Imagine giving a robot that can understand human language the previous set of instructions. Where are there possibilities for the robot to make mistakes? Where might the robot not know what is meant? Try to find the weirdest ways of interpreting these instructions.\n",
        "\n",
        "Write all your ideas into the markdown cell below. Click on `Commit and Push` to save your answers."
      ]
    },
    {
      "cell_type": "markdown",
      "id": "5b3c2884",
      "metadata": {},
      "source": [
        "#### [Double Click Here to Enter Your Answers]"
      ]
    },
    {
      "cell_type": "markdown",
      "id": "70277aa8",
      "metadata": {},
      "source": [
        "---\n",
        "### <span style=\"color: blue\"> Exercise (Malicious Compliance) </span>\n",
        "Play a game in groups of two: One person is a genie that grants the other person one wish. The task of the genie is to try to comply with the wish as maliciously as possible i.e. find the worst possible way of interpreting said wish.\n",
        "\n",
        "Write your favorite wish and compliance in the markdown cell below."
      ]
    },
    {
      "cell_type": "markdown",
      "id": "b277595e",
      "metadata": {},
      "source": [
        "#### [Double Click Here to Enter Your Answers]"
      ]
    },
    {
      "cell_type": "markdown",
      "id": "f7a44a12",
      "metadata": {},
      "source": [
        "---\n",
        "\n",
        "## On Algorithms\n",
        "\n",
        "An **algorithm** is a step-by-step procedure for solving a problem or achieving a specific goal. If a computer program is like a recipe, the algorithm are the individual steps written in the recipe itself.\n",
        "\n",
        "Think about giving someone directions to your home. You provide a sequence of clear steps: \"Go straight for two blocks, turn left at the bakery, and it's the third house on the right.\" That sequence is an algorithm.\n",
        "\n",
        "---\n",
        "\n",
        "### What Makes a Good Algorithm?\n",
        "\n",
        "Not just any set of instructions makes a good algorithm. A well-designed algorithm must be:\n",
        "\n",
        "* **Finite:** It must eventually end. An algorithm that runs forever without producing a result isn't very useful.\n",
        "* **Well-Defined:** Each step must be precise and unambiguous. Instructions like \"add a little bit of salt\" are not well-defined for a computer. It needs an exact quantity, like \"add 5 grams of salt.\"\n",
        "* **Effective:** It must solve the problem it was designed to solve. An algorithm for sorting numbers that occasionally leaves some unsorted is a failed algorithm.\n",
        "\n",
        "---\n",
        "\n",
        "### Algorithms vs. Programs\n",
        "\n",
        "It's important to understand the difference between an algorithm and a program. An algorithm is a conceptual plan, like a blueprint. A **program** is the concrete implementation of that plan, written in a specific programming language like Python. The same algorithm could be written as a program in many different languages."
      ]
    },
    {
      "cell_type": "markdown",
      "id": "eb5c6a6c",
      "metadata": {},
      "source": [
        "---\n",
        "\n",
        "### <span style=\"color: blue\"> Assignment </span>\n",
        "Work through this introduction to the Python language and syntax:\n",
        "[silent teacher](https://silentteacher.toxicode.fr/hour_of_code.html?theme=basic_python)"
      ]
    },
    {
      "cell_type": "markdown",
      "id": "af0818a7",
      "metadata": {},
      "source": [
        "---\n",
        "\n",
        "### <span style=\"color: blue\"> Assignment </span>\n",
        "Work through this puzzle game:\n",
        "[little dot](https://little-dot.toxicode.fr/)"
      ]
    },
    {
      "cell_type": "markdown",
      "id": "9e2be9b4",
      "metadata": {},
      "source": [
        "---\n",
        "\n",
        "## An Introduction to PyTamaro\n",
        "In this section we will use the PyTamaro library to draw graphics.\n",
        "\n",
        "### <span style=\"color: blue\"> Assignment </span>\n",
        "Work through the introduction to PyTamaro:\n",
        "[pytamaro intro](https://pytamaro.si.usi.ch/curricula/luce/welcome)"
      ]
    },
    {
      "cell_type": "code",
      "execution_count": 2,
      "id": "0cef56ce",
      "metadata": {},
      "outputs": [
        {
          "data": {
            "application/vnd.jupyter.widget-view+json": {
              "model_id": "33f79e93ce294ac28db48f179f06725d",
              "version_major": 2,
              "version_minor": 0
            },
            "text/plain": [
              "Button(description='Commit & Push', style=ButtonStyle())"
            ]
          },
          "metadata": {},
          "output_type": "display_data"
        }
      ],
      "source": [
        "# Click this button to commit and push all your changes\n",
        "def git_push_button_clicked(b):\n",
        "    try:\n",
        "        timezone = ZoneInfo('Europe/Zurich')\n",
        "    except Exception as e:\n",
        "        print(f\"Error setting timezone: {e}. Defaulting to system time.\")\n",
        "        now = datetime.now()\n",
        "    else:\n",
        "        now = datetime.now(timezone)\n",
        "    timestamp = now.strftime(\"%Y-%m-%d %H:%M:%S\")\n",
        "    commit_message=f\"Submission at {timestamp}\"\n",
        "    try: \n",
        "        subprocess.run(['rm', 'intro_files/*.png'], check=True, capture_output=True, text=True)\n",
        "        subprocess.run(['python','-m','nbconvert','--to','markdown','intro.ipynb'],check=True, capture_output=True, text=True)\n",
        "        print('saved markdown')\n",
        "    except subprocess.CalledProcessError as e:\n",
        "        print('An error occurred while saving as markdown')\n",
        "        print(e.stderr)\n",
        "    try:\n",
        "        # Add all changes\n",
        "        subprocess.run(['git', 'add', '.'], check=True, capture_output=True, text=True)\n",
        "        print(\"Staged all changes.\")\n",
        "\n",
        "        # Commit changes\n",
        "        subprocess.run(['git', 'commit', '-m', commit_message], check=True, capture_output=True, text=True)\n",
        "        print(\"Committed changes.\")\n",
        "\n",
        "        # Push to the remote repository (assuming 'origin' and 'main' or 'master' branch)\n",
        "        subprocess.run(['git', 'push', 'origin', 'main'], check=True, capture_output=True, text=True)\n",
        "        print(\"Pushed to remote repository.\")\n",
        "\n",
        "        print(\"Git commit and push successful!\")\n",
        "    except subprocess.CalledProcessError as e:\n",
        "        print(\"An error occurred during git commands:\")\n",
        "        print(e.stderr)\n",
        "\n",
        "push_button = widgets.Button(description=\"Commit & Push\")\n",
        "push_button.on_click(git_push_button_clicked)\n",
        "display(push_button)"
      ]
    }
  ],
  "metadata": {
    "kernelspec": {
      "display_name": "Python 3",
      "language": "python",
      "name": "python3"
    },
    "language_info": {
      "codemirror_mode": {
        "name": "ipython",
        "version": 3
      },
      "file_extension": ".py",
      "mimetype": "text/x-python",
      "name": "python",
      "nbconvert_exporter": "python",
      "pygments_lexer": "ipython3",
      "version": "3.11.13"
    }
  },
  "nbformat": 4,
  "nbformat_minor": 5
}
